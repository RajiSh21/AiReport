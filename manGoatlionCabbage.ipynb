{
  "nbformat": 4,
  "nbformat_minor": 0,
  "metadata": {
    "colab": {
      "provenance": [],
      "authorship_tag": "ABX9TyPryj4QqBMTraR4ESZC4L95",
      "include_colab_link": true
    },
    "kernelspec": {
      "name": "python3",
      "display_name": "Python 3"
    },
    "language_info": {
      "name": "python"
    }
  },
  "cells": [
    {
      "cell_type": "markdown",
      "metadata": {
        "id": "view-in-github",
        "colab_type": "text"
      },
      "source": [
        "<a href=\"https://colab.research.google.com/github/RajiSh21/AiReport/blob/main/manGoatlionCabbage.ipynb\" target=\"_parent\"><img src=\"https://colab.research.google.com/assets/colab-badge.svg\" alt=\"Open In Colab\"/></a>"
      ]
    },
    {
      "cell_type": "code",
      "execution_count": 1,
      "metadata": {
        "colab": {
          "base_uri": "https://localhost:8080/"
        },
        "id": "esGFGyU0gKeC",
        "outputId": "3ea4c0f7-a2ae-4b93-e809-b5bdba53b011"
      },
      "outputs": [
        {
          "output_type": "stream",
          "name": "stdout",
          "text": [
            "Solution found! Steps:\n",
            "(0, 0, 0, 0)\n",
            "(1, 1, 0, 0)\n",
            "(0, 1, 0, 0)\n",
            "(1, 1, 1, 0)\n",
            "(0, 0, 1, 0)\n",
            "(1, 0, 1, 1)\n",
            "(0, 0, 1, 1)\n",
            "(1, 1, 1, 1)\n"
          ]
        }
      ],
      "source": [
        "from collections import deque\n",
        "\n",
        "class RiverCrossing:\n",
        "    def __init__(self):\n",
        "        # Define the initial and goal states\n",
        "        self.initialstate = (0, 0, 0, 0)\n",
        "        self.goalstate = (1, 1, 1, 1)\n",
        "\n",
        "    def is_valid_state(self, state):\n",
        "        # Check if the state is valid (no rule violation)\n",
        "        man, goat, lion, cabbage = state\n",
        "        if goat == cabbage != man:\n",
        "            return False\n",
        "        if lion == goat != man:\n",
        "            return False\n",
        "        return True\n",
        "\n",
        "    def successors(self, state):\n",
        "        # Generate all possible valid successor states\n",
        "        man, goat, lion, cabbage = state\n",
        "        succ = []\n",
        "\n",
        "        # Man takes himself only\n",
        "        new_state = (1 - man, goat, lion, cabbage)\n",
        "        if self.is_valid_state(new_state):\n",
        "            succ.append(new_state)\n",
        "\n",
        "        # Man takes the goat\n",
        "        if man == goat:\n",
        "            new_state = (1 - man, 1 - goat, lion, cabbage)\n",
        "            if self.is_valid_state(new_state):\n",
        "                succ.append(new_state)\n",
        "\n",
        "        # Man takes the lion\n",
        "        if man == lion:\n",
        "            new_state = (1 - man, goat, 1 - lion, cabbage)\n",
        "            if self.is_valid_state(new_state):\n",
        "                succ.append(new_state)\n",
        "\n",
        "        # Man takes the cabbage\n",
        "        if man == cabbage:\n",
        "            new_state = (1 - man, goat, lion, 1 - cabbage)\n",
        "            if self.is_valid_state(new_state):\n",
        "                succ.append(new_state)\n",
        "\n",
        "        return succ\n",
        "\n",
        "    def bfs(self, initialstate, goal_state):\n",
        "        open_queue = deque([(initialstate, [initialstate])])  # Queue of states with paths\n",
        "        visited = set()\n",
        "\n",
        "        while open_queue:\n",
        "            currentstate, path = open_queue.popleft()\n",
        "            visited.add(currentstate)\n",
        "\n",
        "            # Goal test\n",
        "            if currentstate == goal_state:\n",
        "                return path\n",
        "\n",
        "            # Generate successors\n",
        "            for succ in self.successors(currentstate):\n",
        "                if succ not in visited:\n",
        "                    open_queue.append((succ, path + [succ]))\n",
        "\n",
        "        return None\n",
        "\n",
        "    def run(self):\n",
        "        # Solve the problem\n",
        "        result = self.bfs(self.initialstate, self.goalstate)\n",
        "        if result is None:\n",
        "            print(\"No solution found!\")\n",
        "        else:\n",
        "            print(\"Solution found! Steps:\")\n",
        "            for step in result:\n",
        "                print(step)\n",
        "\n",
        "\n",
        "river_crossing = RiverCrossing()\n",
        "river_crossing.run()"
      ]
    }
  ]
}