{
  "nbformat": 4,
  "nbformat_minor": 0,
  "metadata": {
    "colab": {
      "provenance": [],
      "authorship_tag": "ABX9TyNVR/Bh5tMWUSTu1ILzTNXU",
      "include_colab_link": true
    },
    "kernelspec": {
      "name": "python3",
      "display_name": "Python 3"
    },
    "language_info": {
      "name": "python"
    }
  },
  "cells": [
    {
      "cell_type": "markdown",
      "metadata": {
        "id": "view-in-github",
        "colab_type": "text"
      },
      "source": [
        "<a href=\"https://colab.research.google.com/github/RajiSh21/AiReport/blob/main/blocksworldproblem.ipynb\" target=\"_parent\"><img src=\"https://colab.research.google.com/assets/colab-badge.svg\" alt=\"Open In Colab\"/></a>"
      ]
    },
    {
      "cell_type": "code",
      "execution_count": 1,
      "metadata": {
        "colab": {
          "base_uri": "https://localhost:8080/"
        },
        "id": "fGRYjJ_RhV86",
        "outputId": "c9d6079d-3157-4ee3-8cff-e73e5e1524d6"
      },
      "outputs": [
        {
          "output_type": "stream",
          "name": "stdout",
          "text": [
            "Start State: ['A', 'D', 'C', 'B'], Heuristic Value: -4\n",
            "Goal State: ['D', 'C', 'B', 'A'], Heuristic Value: 4\n"
          ]
        }
      ],
      "source": [
        "class BlocksWorld:\n",
        "    def __init__(self, start_state, goal_state):\n",
        "        self.start_state = start_state\n",
        "        self.goal_state = goal_state\n",
        "\n",
        "    def calculate_heuristic(self, state):\n",
        "        #Calculate heuristic value e(p) for a given state.\n",
        "        heuristic_value = 0\n",
        "        for i in range(len(state)):\n",
        "            if state[i] == self.goal_state[i]:\n",
        "                heuristic_value += 1\n",
        "            else:\n",
        "                heuristic_value -= 1\n",
        "        return heuristic_value\n",
        "\n",
        "    def run(self):\n",
        "        #Run heuristic calculation for the start state.\n",
        "        start_heuristic = self.calculate_heuristic(self.start_state)\n",
        "        goal_heuristic = self.calculate_heuristic(self.goal_state)\n",
        "        print(f\"Start State: {self.start_state}, Heuristic Value: {start_heuristic}\")\n",
        "        print(f\"Goal State: {self.goal_state}, Heuristic Value: {goal_heuristic}\")\n",
        "\n",
        "\n",
        "# Define the start and goal states\n",
        "start_state = [\"A\", \"D\", \"C\", \"B\"]\n",
        "goal_state = [\"D\", \"C\", \"B\", \"A\"]\n",
        "\n",
        "\n",
        "blocks_world = BlocksWorld(start_state, goal_state)\n",
        "blocks_world.run()"
      ]
    }
  ]
}