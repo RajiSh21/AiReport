{
  "nbformat": 4,
  "nbformat_minor": 0,
  "metadata": {
    "colab": {
      "provenance": [],
      "authorship_tag": "ABX9TyOnR53dDBXodr46Xol33aha",
      "include_colab_link": true
    },
    "kernelspec": {
      "name": "python3",
      "display_name": "Python 3"
    },
    "language_info": {
      "name": "python"
    }
  },
  "cells": [
    {
      "cell_type": "markdown",
      "metadata": {
        "id": "view-in-github",
        "colab_type": "text"
      },
      "source": [
        "<a href=\"https://colab.research.google.com/github/RajiSh21/AiReport/blob/main/tictactoe.ipynb\" target=\"_parent\"><img src=\"https://colab.research.google.com/assets/colab-badge.svg\" alt=\"Open In Colab\"/></a>"
      ]
    },
    {
      "cell_type": "code",
      "execution_count": 8,
      "metadata": {
        "colab": {
          "base_uri": "https://localhost:8080/",
          "height": 394
        },
        "id": "kXRN0ruld1eU",
        "outputId": "9a1b0490-b743-433e-b6c2-a01c06c0fe58"
      },
      "outputs": [
        {
          "output_type": "stream",
          "name": "stdout",
          "text": [
            "Current Board:\n",
            "X _ O\n",
            "_ X _\n",
            "O _ _\n"
          ]
        },
        {
          "output_type": "error",
          "ename": "AttributeError",
          "evalue": "'TicTacToe' object has no attribute 'isopenline'",
          "traceback": [
            "\u001b[0;31m---------------------------------------------------------------------------\u001b[0m",
            "\u001b[0;31mAttributeError\u001b[0m                            Traceback (most recent call last)",
            "\u001b[0;32m<ipython-input-8-3605867f5a83>\u001b[0m in \u001b[0;36m<cell line: 72>\u001b[0;34m()\u001b[0m\n\u001b[1;32m     70\u001b[0m \u001b[0;34m\u001b[0m\u001b[0m\n\u001b[1;32m     71\u001b[0m \u001b[0;31m# Calculate and print the heuristic value\u001b[0m\u001b[0;34m\u001b[0m\u001b[0;34m\u001b[0m\u001b[0m\n\u001b[0;32m---> 72\u001b[0;31m \u001b[0mheuristic_value\u001b[0m \u001b[0;34m=\u001b[0m \u001b[0mtic_tac_toe\u001b[0m\u001b[0;34m.\u001b[0m\u001b[0mcalculate_heuristic\u001b[0m\u001b[0;34m(\u001b[0m\u001b[0;34m)\u001b[0m\u001b[0;34m\u001b[0m\u001b[0;34m\u001b[0m\u001b[0m\n\u001b[0m\u001b[1;32m     73\u001b[0m \u001b[0mprint\u001b[0m\u001b[0;34m(\u001b[0m\u001b[0;34mf\"\\nHeuristic Value (e(p)): {heuristic_value}\"\u001b[0m\u001b[0;34m)\u001b[0m\u001b[0;34m\u001b[0m\u001b[0;34m\u001b[0m\u001b[0m\n",
            "\u001b[0;32m<ipython-input-8-3605867f5a83>\u001b[0m in \u001b[0;36mcalculate_heuristic\u001b[0;34m(self)\u001b[0m\n\u001b[1;32m     21\u001b[0m         \u001b[0;31m# Check rows\u001b[0m\u001b[0;34m\u001b[0m\u001b[0;34m\u001b[0m\u001b[0m\n\u001b[1;32m     22\u001b[0m         \u001b[0;32mfor\u001b[0m \u001b[0mrow\u001b[0m \u001b[0;32min\u001b[0m \u001b[0mself\u001b[0m\u001b[0;34m.\u001b[0m\u001b[0mboard\u001b[0m\u001b[0;34m:\u001b[0m\u001b[0;34m\u001b[0m\u001b[0;34m\u001b[0m\u001b[0m\n\u001b[0;32m---> 23\u001b[0;31m             \u001b[0;32mif\u001b[0m \u001b[0mself\u001b[0m\u001b[0;34m.\u001b[0m\u001b[0misopenline\u001b[0m\u001b[0;34m(\u001b[0m\u001b[0mrow\u001b[0m\u001b[0;34m,\u001b[0m \u001b[0mself\u001b[0m\u001b[0;34m.\u001b[0m\u001b[0mplayer\u001b[0m\u001b[0;34m)\u001b[0m\u001b[0;34m:\u001b[0m\u001b[0;34m\u001b[0m\u001b[0;34m\u001b[0m\u001b[0m\n\u001b[0m\u001b[1;32m     24\u001b[0m                 \u001b[0mopen_for_player\u001b[0m \u001b[0;34m+=\u001b[0m \u001b[0;36m1\u001b[0m\u001b[0;34m\u001b[0m\u001b[0;34m\u001b[0m\u001b[0m\n\u001b[1;32m     25\u001b[0m             \u001b[0;32mif\u001b[0m \u001b[0mself\u001b[0m\u001b[0;34m.\u001b[0m\u001b[0misopenline\u001b[0m\u001b[0;34m(\u001b[0m\u001b[0mrow\u001b[0m\u001b[0;34m,\u001b[0m \u001b[0mself\u001b[0m\u001b[0;34m.\u001b[0m\u001b[0mopponent\u001b[0m\u001b[0;34m)\u001b[0m\u001b[0;34m:\u001b[0m\u001b[0;34m\u001b[0m\u001b[0;34m\u001b[0m\u001b[0m\n",
            "\u001b[0;31mAttributeError\u001b[0m: 'TicTacToe' object has no attribute 'isopenline'"
          ]
        }
      ],
      "source": [
        "class TicTacToe:\n",
        "    def __init__(self, board, player, opponent):\n",
        "        self.board = board\n",
        "        self.player = player\n",
        "        self.opponent = opponent\n",
        "\n",
        "    def is_open_line(self, line, symbol):\n",
        "        \"\"\"Check if a line (row, column, or diagonal) is open for a given symbol.\"\"\"\n",
        "        return all(cell == symbol or cell == '_' for cell in line)\n",
        "\n",
        "    def calculate_heuristic(self):\n",
        "        \"\"\"Calculate the heuristic value e(p) for the current board.\"\"\"\n",
        "        openforplayer = 0\n",
        "        openforopponent = 0\n",
        "\n",
        "        # Check rows\n",
        "        for row in self.board:\n",
        "            if self.isopenline(row, self.player):\n",
        "                open_for_player += 1\n",
        "            if self.isopenline(row, self.opponent):\n",
        "                openforopponent += 1\n",
        "\n",
        "        # Check columns\n",
        "        for col in range(3):\n",
        "            column = [self.board[row][col] for row in range(3)]\n",
        "            if self.isopenline(column, self.player):\n",
        "                open_for_player += 1\n",
        "            if self.isopenline(column, self.opponent):\n",
        "                openforopponent += 1\n",
        "\n",
        "        # Check diagonals\n",
        "        diagonal1 = [self.board[i][i] for i in range(3)]\n",
        "        diagonal2 = [self.board[i][2 - i] for i in range(3)]\n",
        "        if self.isopenline(diagonal1, self.player):\n",
        "            openforplayer += 1\n",
        "        if self.isopenline(diagonal1, self.opponent):\n",
        "            openforopponent += 1\n",
        "        if self.isopenline(diagonal2, self.player):\n",
        "            openforplayer += 1\n",
        "        if self.isopenline(diagonal2, self.opponent):\n",
        "            openforopponent += 1\n",
        "\n",
        "        # Calculate heuristic value\n",
        "        return openforplayer - openforopponent\n",
        "\n",
        "    def display_board(self):\n",
        "        \"\"\"Display the current board.\"\"\"\n",
        "        for row in self.board:\n",
        "            print(' '.join(row))\n",
        "\n",
        "\n",
        "# Define the board and players\n",
        "board = [\n",
        "    ['X', '_', 'O'],\n",
        "    ['_', 'X', '_'],\n",
        "    ['O', '_', '_']\n",
        "]\n",
        "\n",
        "# Initialize TicTacToe with the current board, player, and opponent\n",
        "tic_tac_toe = TicTacToe(board, player='X', opponent='O')\n",
        "\n",
        "# Display the board\n",
        "print(\"Current Board:\")\n",
        "tic_tac_toe.display_board()\n",
        "\n",
        "# Calculate and print the heuristic value\n",
        "heuristic_value = tic_tac_toe.calculate_heuristic()\n",
        "print(f\"\\nHeuristic Value (e(p)): {heuristic_value}\")\n"
      ]
    },
    {
      "cell_type": "markdown",
      "source": [],
      "metadata": {
        "id": "C5smLLixi1CQ"
      }
    }
  ]
}