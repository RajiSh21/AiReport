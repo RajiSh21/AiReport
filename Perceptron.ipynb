{
  "nbformat": 4,
  "nbformat_minor": 0,
  "metadata": {
    "colab": {
      "provenance": [],
      "authorship_tag": "ABX9TyPY+l0pBQ1Ln7hB+DSMltN4",
      "include_colab_link": true
    },
    "kernelspec": {
      "name": "python3",
      "display_name": "Python 3"
    },
    "language_info": {
      "name": "python"
    }
  },
  "cells": [
    {
      "cell_type": "markdown",
      "metadata": {
        "id": "view-in-github",
        "colab_type": "text"
      },
      "source": [
        "<a href=\"https://colab.research.google.com/github/RajiSh21/AiReport/blob/main/Perceptron.ipynb\" target=\"_parent\"><img src=\"https://colab.research.google.com/assets/colab-badge.svg\" alt=\"Open In Colab\"/></a>"
      ]
    },
    {
      "cell_type": "code",
      "execution_count": 1,
      "metadata": {
        "colab": {
          "base_uri": "https://localhost:8080/"
        },
        "id": "jhK-4M1mRbXK",
        "outputId": "a7914f87-f63d-4f6d-822f-b5bd786200c8"
      },
      "outputs": [
        {
          "output_type": "stream",
          "name": "stdout",
          "text": [
            "Learned weights: [0.01 0.02]\n"
          ]
        }
      ],
      "source": [
        "import numpy as np\n",
        "\n",
        "def perceptron(X, y, learning_rate=0.01, epochs=10):\n",
        "  \"\"\"\n",
        "  Perceptron training algorithm.\n",
        "\n",
        "  Args:\n",
        "    X: Training data (features), shape (n_samples, n_features).\n",
        "    y: Training labels, shape (n_samples,).\n",
        "    learning_rate: Learning rate for weight updates.\n",
        "    epochs: Number of training epochs.\n",
        "\n",
        "  Returns:\n",
        "    weights: Learned weights of the perceptron.\n",
        "  \"\"\"\n",
        "\n",
        "  # Initialize weights with zeros\n",
        "  weights = np.zeros(X.shape[1])\n",
        "\n",
        "  for _ in range(epochs):\n",
        "    for i in range(len(X)):\n",
        "      # Calculate prediction\n",
        "      prediction = np.dot(X[i], weights)\n",
        "\n",
        "      # Update weights if misclassified\n",
        "      if np.sign(prediction) != y[i]:\n",
        "        weights += learning_rate * y[i] * X[i]\n",
        "\n",
        "  return weights\n",
        "\n",
        "# Example usage\n",
        "# Sample data\n",
        "X = np.array([[1, 2], [2, 3], [-1, -1], [-2, -2]])\n",
        "y = np.array([1, 1, -1, -1])\n",
        "\n",
        "# Train the perceptron\n",
        "learned_weights = perceptron(X, y)\n",
        "\n",
        "print(\"Learned weights:\", learned_weights)"
      ]
    }
  ]
}