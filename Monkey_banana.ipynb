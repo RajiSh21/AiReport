{
  "nbformat": 4,
  "nbformat_minor": 0,
  "metadata": {
    "colab": {
      "provenance": [],
      "authorship_tag": "ABX9TyNLxPUz/fksWRV6yPdoCZBT",
      "include_colab_link": true
    },
    "kernelspec": {
      "name": "python3",
      "display_name": "Python 3"
    },
    "language_info": {
      "name": "python"
    }
  },
  "cells": [
    {
      "cell_type": "markdown",
      "metadata": {
        "id": "view-in-github",
        "colab_type": "text"
      },
      "source": [
        "<a href=\"https://colab.research.google.com/github/RajiSh21/AiReport/blob/main/Monkey_banana.ipynb\" target=\"_parent\"><img src=\"https://colab.research.google.com/assets/colab-badge.svg\" alt=\"Open In Colab\"/></a>"
      ]
    },
    {
      "cell_type": "code",
      "execution_count": null,
      "metadata": {
        "id": "jZMRXZabTvyy"
      },
      "outputs": [],
      "source": [
        "from collections import deque\n",
        "\n",
        "# Define possible actions: walk, push, climb, grasp\n",
        "ACTIONS = ['walk', 'push', 'climb', 'grasp']\n",
        "\n",
        "# Define the initial state\n",
        "INITIAL_STATE = {\n",
        "    'monkey_pos': 'ground',\n",
        "    'box_pos': 'ground',\n",
        "    'banana_pos': 'high',\n",
        "    'has_banana': False\n",
        "}\n",
        "\n",
        "# Define the goal state\n",
        "GOAL_STATE = {\n",
        "    'monkey_pos': 'ground',\n",
        "    'box_pos': 'ground',\n",
        "    'banana_pos': 'high',\n",
        "    'has_banana': True\n",
        "}\n",
        "\n",
        "def is_goal_state(state):\n",
        "    \"\"\"Checks if the given state is the goal state.\"\"\"\n",
        "    return state == GOAL_STATE\n",
        "\n",
        "def get_successors(state):\n",
        "    \"\"\"Generates all possible successor states from the given state.\"\"\"\n",
        "    successors = []\n",
        "\n",
        "    if state['monkey_pos'] == 'ground':\n",
        "        # If monkey is on the ground\n",
        "        if state['box_pos'] == 'ground':\n",
        "            # If box is also on the ground\n",
        "            # Append a tuple containing the successor state and action\n",
        "            successors.append(({\n",
        "                'monkey_pos': 'on_box',\n",
        "                'box_pos': 'ground',\n",
        "                'banana_pos': 'high',\n",
        "                'has_banana': False\n",
        "            }, 'climb'))  # Climb onto the box\n",
        "        # Append a tuple containing the successor state and action\n",
        "        successors.append(({\n",
        "            'monkey_pos': 'ground',\n",
        "            'box_pos': 'under_banana',\n",
        "            'banana_pos': 'high',\n",
        "            'has_banana': False\n",
        "        }, 'push'))  # Push the box under the banana\n",
        "\n",
        "    if state['monkey_pos'] == 'on_box' and state['box_pos'] == 'under_banana':\n",
        "        # Append a tuple containing the successor state and action\n",
        "        successors.append(({\n",
        "            'monkey_pos': 'on_box',\n",
        "            'box_pos': 'under_banana',\n",
        "            'banana_pos': 'high',\n",
        "            'has_banana': True\n",
        "        }, 'grasp'))  # Grasp the banana\n",
        "\n",
        "    return successors\n",
        "\n",
        "def breadth_first_search(initial_state):\n",
        "    \"\"\"Performs breadth-first search to find a solution.\"\"\"\n",
        "    queue = deque([(initial_state, [])])  # (state, path)\n",
        "\n",
        "    while queue:\n",
        "        current_state, path = queue.popleft()\n",
        "\n",
        "        if is_goal_state(current_state):\n",
        "            return path\n",
        "\n",
        "        for successor, action in get_successors(current_state):\n",
        "            new_path = path + [action]\n",
        "            queue.append((successor, new_path))\n",
        "\n",
        "    return None\n",
        "\n",
        "# Find the solution\n",
        "solution = breadth_first_search(INITIAL_STATE)\n",
        "\n",
        "if solution:\n",
        "    print(\"Solution found:\")\n",
        "    for action in solution:\n",
        "        print(action)\n",
        "else:\n",
        "    print(\"No solution found.\")"
      ]
    }
  ]
}